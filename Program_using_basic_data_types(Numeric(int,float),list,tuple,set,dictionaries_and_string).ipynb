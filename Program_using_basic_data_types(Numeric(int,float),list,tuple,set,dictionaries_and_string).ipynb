{
  "nbformat": 4,
  "nbformat_minor": 0,
  "metadata": {
    "colab": {
      "provenance": [],
      "authorship_tag": "ABX9TyPoz1gzHbZqczxPr9dtFF9I",
      "include_colab_link": true
    },
    "kernelspec": {
      "name": "python3",
      "display_name": "Python 3"
    },
    "language_info": {
      "name": "python"
    }
  },
  "cells": [
    {
      "cell_type": "markdown",
      "metadata": {
        "id": "view-in-github",
        "colab_type": "text"
      },
      "source": [
        "<a href=\"https://colab.research.google.com/github/Pravin-P-Singh/College_Python/blob/main/Program_using_basic_data_types(Numeric(int%2Cfloat)%2Clist%2Ctuple%2Cset%2Cdictionaries_and_string).ipynb\" target=\"_parent\"><img src=\"https://colab.research.google.com/assets/colab-badge.svg\" alt=\"Open In Colab\"/></a>"
      ]
    },
    {
      "cell_type": "code",
      "execution_count": 1,
      "metadata": {
        "colab": {
          "base_uri": "https://localhost:8080/"
        },
        "id": "ePOIy19IA7Dz",
        "outputId": "dba3fa71-69c9-4ec0-818f-4a3ab4a3ff77"
      },
      "outputs": [
        {
          "output_type": "stream",
          "name": "stdout",
          "text": [
            "Enter first number :\n",
            "3\n",
            "Enter second number :\n",
            "5\n",
            "The sum is  8.0\n",
            "The value of a is  5  and b is  10\n",
            "The value of a is  10  and b is  5\n",
            "Enter the value of a :\n",
            "4\n",
            "Enter the value of b :\n",
            "5\n",
            "Enter the value of c :\n",
            "2\n",
            "The equation is  4 x**2 + 5 x +  2\n",
            "Roots are imaginary\n",
            "[1, 2, 3, 5, 5, 44]\n",
            "[1, 3, 5, 5, 44]\n",
            "The number of times '5' has occured is  2\n",
            "[1, 3, 5, 5]\n",
            "[5, 5, 3, 1]\n",
            "The number of times '3' has occured in the tuple is  1\n",
            "The first occurence of '3' is at index 1\n",
            "{1, 2, 3, 33, 44, 23}\n",
            "{1, 2, 3, 33, 7, 8, 9, 44, 23}\n",
            "{1, 2, 3, 7, 8, 9, 44, 23}\n",
            "{8, 9, 7}\n",
            "{2, 3, 7, 8, 9, 44, 23}\n",
            "The score of harry is :  90\n",
            "Harry\n",
            "Shubham\n",
            "Pravin\n",
            "90\n",
            "90\n",
            "90\n",
            "Harry 90\n",
            "Shubham 90\n",
            "Pravin 90\n",
            "{'Shubham': 90, 'Pravin': 90}\n"
          ]
        }
      ],
      "source": [
        "# Program using basic data types(Numeric(int,float),list,tuple,set,dictionaries and string)\n",
        "\n",
        "import math as m\n",
        "\n",
        "#Take two numbers as input(float) and print addition\n",
        "a = float(input(\"Enter first number :\\n\"))\n",
        "b = float(input(\"Enter second number :\\n\"))\n",
        "print(\"The sum is \", a + b)\n",
        "\n",
        "# Program to swap two numbers\n",
        "a, b = 5, 10\n",
        "print(\"The value of a is \", a, \" and b is \", b)\n",
        "a, b = b, a\n",
        "print(\"The value of a is \", a, \" and b is \", b)\n",
        "\n",
        "# Solve the quadratic equation ax**2 + bx + c = 0\n",
        "a = int(input(\"Enter the value of a :\\n\"))\n",
        "b = int(input(\"Enter the value of b :\\n\"))\n",
        "c = int(input(\"Enter the value of c :\\n\"))\n",
        "print(\"The equation is \", a, \"x**2 +\", b, \"x + \", c)\n",
        "# for value 1\n",
        "z = b**2 - (4 * a * c)\n",
        "if (z < 0):\n",
        "  print(\"Roots are imaginary\")\n",
        "else:\n",
        "  value1 = (-b + m.sqrt(z)) / 2 * a\n",
        "  value2 = (-b - m.sqrt(z)) / 2 * a\n",
        "  print(\"The roots are \", round(value1), \" and \", round(value2))\n",
        "\n",
        "#Perform (at least 5) operations on each\n",
        "# i)list\n",
        "my_list = [1, 2, 3, 44, 5, 5]\n",
        "my_list.sort()\n",
        "print(my_list)\n",
        "my_list.remove(2)\n",
        "print(my_list)\n",
        "num = my_list.count(5)\n",
        "print(\"The number of times '5' has occured is \", num)\n",
        "my_list.pop(4)\n",
        "print(my_list)\n",
        "my_list.reverse()\n",
        "print(my_list)\n",
        "\n",
        "# ii) tuple\n",
        "my_tuple = (1, 3, 44, 2, 5)\n",
        "num = my_tuple.count(3)\n",
        "print(\"The number of times '3' has occured in the tuple is \", num)\n",
        "index_value = my_tuple.index(3)\n",
        "print(\"The first occurence of '3' is at index\", index_value)\n",
        "\n",
        "# iii) set\n",
        "my_set = {1, 2, 3, 44, 23}\n",
        "my_set.add(33)\n",
        "another_set = {9, 8, 7}\n",
        "print(my_set)\n",
        "my_set.update(another_set)\n",
        "print(my_set)\n",
        "my_set.remove(33)\n",
        "print(my_set)\n",
        "variable = my_set.intersection(another_set)\n",
        "print(variable)\n",
        "my_set.pop()\n",
        "print(my_set)\n",
        "\n",
        "# iv) dictionaries\n",
        "my_dictionaries = {'Harry': 90, 'Shubham': 90, 'Pravin': 90}\n",
        "variable = my_dictionaries.get('Harry')\n",
        "print(\"The score of harry is : \", variable)\n",
        "for x in my_dictionaries.keys():\n",
        "  print(x)\n",
        "for x in my_dictionaries.values():\n",
        "  print(x)\n",
        "\n",
        "for x, y in my_dictionaries.items():\n",
        "  print(x, y)\n",
        "my_dictionaries.pop('Harry')\n",
        "print(my_dictionaries)\n"
      ]
    }
  ]
}