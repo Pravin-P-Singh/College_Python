{
  "nbformat": 4,
  "nbformat_minor": 0,
  "metadata": {
    "colab": {
      "provenance": [],
      "toc_visible": true,
      "collapsed_sections": [
        "1Snmk4i7WMr7",
        "i2yaDJQAaHDI"
      ],
      "authorship_tag": "ABX9TyNOZt/10HQvsYLEst6B41rM",
      "include_colab_link": true
    },
    "kernelspec": {
      "name": "python3",
      "display_name": "Python 3"
    },
    "language_info": {
      "name": "python"
    }
  },
  "cells": [
    {
      "cell_type": "markdown",
      "metadata": {
        "id": "view-in-github",
        "colab_type": "text"
      },
      "source": [
        "<a href=\"https://colab.research.google.com/github/Pravin-P-Singh/College_Python/blob/main/Python_experiment_6.ipynb\" target=\"_parent\"><img src=\"https://colab.research.google.com/assets/colab-badge.svg\" alt=\"Open In Colab\"/></a>"
      ]
    },
    {
      "cell_type": "markdown",
      "source": [
        "#Stack"
      ],
      "metadata": {
        "id": "1Snmk4i7WMr7"
      }
    },
    {
      "cell_type": "code",
      "execution_count": null,
      "metadata": {
        "colab": {
          "base_uri": "https://localhost:8080/"
        },
        "id": "_hNdgTOVIqYh",
        "outputId": "399346a8-6f18-4430-f7fb-57e81c7b44e7"
      },
      "outputs": [
        {
          "output_type": "stream",
          "name": "stdout",
          "text": [
            "\n",
            "\n",
            "*******Stack Program*******\n",
            "\n",
            "\n",
            "Enter the number of items in the stack:\n",
            "5\n",
            "Enter the elements :\n",
            "1\n",
            "2\n",
            "3\n",
            "4\n",
            "5\n",
            "Original stack is :\n",
            " [1, 2, 3, 4, 5]\n",
            "Stack after pushing 7 is :\n",
            " [1, 2, 3, 4, 5, 7]\n",
            "Length of stack is :\n",
            " 6\n",
            "Enter the index number to remove element from the stack :\n",
            "2\n",
            "Stack after removal of the desired element index is :\n",
            " [1, 2, 4, 5, 7]\n",
            "Last value of stack index is :\n",
            " 7\n",
            "Stack elements after deletion is  []\n"
          ]
        }
      ],
      "source": [
        "# Program to implement stack\n",
        "print(\"\\n\\n*******Stack Program*******\\n\\n\")\n",
        "stack=[]\n",
        "num=int(input(\"Enter the number of items in the stack:\\n\"))\n",
        "print(\"Enter the elements :\")\n",
        "for i in range(0,num):\n",
        "  a=int(input(\"\"))\n",
        "  stack.append(a)\n",
        "\n",
        "print(\"Original stack is :\\n\",stack)\n",
        "stack.append(7)\n",
        "print(\"Stack after pushing 7 is :\\n\",stack)\n",
        "print(\"Length of stack is :\\n\",len(stack))\n",
        "inum=int(input(\"Enter the index number to remove element from the stack :\\n\"))\n",
        "stack.pop(inum)\n",
        "print(\"Stack after removal of the desired element index is :\\n\",stack)\n",
        "last_element_index=len(stack)-1\n",
        "print(\"Last value of stack index is :\\n\",stack[last_element_index])\n",
        "del stack[:]\n",
        "print(\"Stack elements after deletion is \",stack)"
      ]
    },
    {
      "cell_type": "markdown",
      "source": [
        "#Queue"
      ],
      "metadata": {
        "id": "i2yaDJQAaHDI"
      }
    },
    {
      "cell_type": "code",
      "source": [
        "# Program to implement queue\n",
        "print(\"\\n\\n******Queue Program*****\\n\\n\")\n",
        "queue=[]\n",
        "q=int(input(\"Enter the number of items in the queue:\\n\"))\n",
        "for i in range(0,q):\n",
        "  b=int(input(\"Enter the element :\\n\"))\n",
        "  queue.append(b)\n",
        "\n",
        "print(\"Original Queue is :\\n\",queue)\n",
        "queue.pop(0)\n",
        "print(\"Queue after deletion of first index is :\\n\",queue)\n",
        "queins=int(input(\"Enter the element you want to add in queue \\n\"))\n",
        "queue.append(queins)\n",
        "print(\"Queue after insertion of new element is  :\\n\",queue)\n",
        "lei=len(queue)-1\n",
        "print(\"The length of the queue is :\\n\",lei)\n",
        "mid=len(queue)//2\n",
        "queue.pop(mid)\n",
        "print(\"Queue after deleting the middle element is:\\n\",queue)\n",
        "number=int(input(\"Enter the element you want to remove from the queue :\\n\"))\n",
        "queue.remove(number)\n",
        "print(\"Queue after removal of the entered element is :\\n\",queue)\n",
        "del queue[:]\n",
        "print(\"Queue after deletion of all the elements is :\\n\",queue)"
      ],
      "metadata": {
        "colab": {
          "base_uri": "https://localhost:8080/"
        },
        "id": "XpsV6Q9XaN6D",
        "outputId": "5db6bba1-2026-4acd-cb5c-35af919c31c2"
      },
      "execution_count": null,
      "outputs": [
        {
          "output_type": "stream",
          "name": "stdout",
          "text": [
            "\n",
            "\n",
            "******Queue Program*****\n",
            "\n",
            "\n",
            "Enter the number of items in the queue:\n",
            "5\n",
            "Enter the element :\n",
            "1\n",
            "Enter the element :\n",
            "2\n",
            "Enter the element :\n",
            "3\n",
            "Enter the element :\n",
            "4\n",
            "Enter the element :\n",
            "5\n",
            "Original Queue is :\n",
            " [1, 2, 3, 4, 5]\n",
            "Queue after deletion of first index is :\n",
            " [2, 3, 4, 5]\n",
            "Enter the element you want to add in queue \n",
            "56\n",
            "Queue after insertion of new element is  :\n",
            " [2, 3, 4, 5, 56]\n",
            "The length of the queue is :\n",
            " 4\n",
            "Queue after deleting the middle element is:\n",
            " [2, 3, 5, 56]\n",
            "Enter the element you want to remove from the queue :\n",
            "3\n",
            "Queue after removal of the entered element is :\n",
            " [2, 5, 56]\n",
            "Queue after deletion of all the elements is :\n",
            " []\n"
          ]
        }
      ]
    },
    {
      "cell_type": "markdown",
      "source": [
        "# Dequeue"
      ],
      "metadata": {
        "id": "StEeSYatW-S5"
      }
    },
    {
      "cell_type": "code",
      "source": [
        "import collections\n",
        "print(\"\\n\\n*****Program to implement dequeue****\\n\\n\")\n",
        "# Create a dequeue\n",
        "DoubleEnded=collections.deque([\"Mon\",\"Tue\",\"Wed\"])\n",
        "print(DoubleEnded)\n",
        "\n",
        "# Append to right\n",
        "print(\"Adding to right : \")\n",
        "DoubleEnded.append(\"Thu\")\n",
        "print(DoubleEnded)\n",
        "# append to left\n",
        "print(\"Adding to left : \")\n",
        "DoubleEnded.appendleft(\"Sun\")\n",
        "print(DoubleEnded)\n",
        "\n",
        "# remove the element from right\n",
        "print(\"Removing the element from right : \")\n",
        "DoubleEnded.pop()\n",
        "print(DoubleEnded)\n",
        "\n",
        "# remove element from left\n",
        "print(\"Removing element from the left : \")\n",
        "DoubleEnded.popleft()\n",
        "print(DoubleEnded)\n",
        "\n",
        "# reverse the dequeue\n",
        "print(\"Reversing the dequeue\")\n",
        "DoubleEnded.reverse()\n",
        "print(DoubleEnded)"
      ],
      "metadata": {
        "colab": {
          "base_uri": "https://localhost:8080/"
        },
        "id": "IuRjoHeOXJMd",
        "outputId": "002c12b7-2253-425e-b118-2fd26e9c8f45"
      },
      "execution_count": null,
      "outputs": [
        {
          "output_type": "stream",
          "name": "stdout",
          "text": [
            "\n",
            "\n",
            "*****Program to implement dequeue****\n",
            "\n",
            "\n",
            "deque(['Mon', 'Tue', 'Wed'])\n",
            "Adding to right : \n",
            "deque(['Mon', 'Tue', 'Wed', 'Thu'])\n",
            "Adding to left : \n",
            "deque(['Sun', 'Mon', 'Tue', 'Wed', 'Thu'])\n",
            "Removing the element from right : \n",
            "deque(['Sun', 'Mon', 'Tue', 'Wed'])\n",
            "Removing element from the left : \n",
            "deque(['Mon', 'Tue', 'Wed'])\n",
            "Reversing the dequeue\n",
            "deque(['Wed', 'Tue', 'Mon'])\n"
          ]
        }
      ]
    },
    {
      "cell_type": "markdown",
      "source": [
        "#Linked List"
      ],
      "metadata": {
        "id": "_zY38F1eQ_yG"
      }
    },
    {
      "cell_type": "code",
      "source": [
        "class Node:\n",
        "  def __init__(self,data,nextNode=None): \n",
        "    self.data = data\n",
        "    self.nextNode=nextNode\n",
        "\n",
        "  def getData(self):\n",
        "    return self.data\n",
        "\n",
        "  def setData(self,val):\n",
        "    self.data = val\n",
        "\n",
        "  def getNextNode(self):\n",
        "    return self.nextNode\n",
        "\n",
        "  def setNextNode(self,val):\n",
        "    self.nextNode = val\n",
        "\n",
        "# class Linked list \n",
        "class LinkedList:\n",
        "  def __init__(self,head = None):\n",
        "    self.head = head\n",
        "    self.size = 0\n",
        "\n",
        "  def getSize(self):\n",
        "    return self.size\n",
        "\n",
        "  def addNode(self,data):\n",
        "    newNode = Node(data,self.head)\n",
        "    self.head = newNode\n",
        "    self.size+=1\n",
        "    return True\n",
        "\n",
        "  def printNode(self):\n",
        "    curr = self.head #0\n",
        "    while curr:\n",
        "      print(curr.data)\n",
        "      curr = curr.getNextNode()\n",
        "\n",
        "myList = LinkedList()\n",
        "print(\"Inserting\")\n",
        "print(myList.addNode(5)) #true\n",
        "print(myList.addNode(15))\n",
        "print(myList.addNode(25)) \n",
        "print(\"Printing\")\n",
        "myList.printNode()\n",
        "print(\"Size\")\n",
        "print(myList.getSize())"
      ],
      "metadata": {
        "id": "6WMejvmCQ_Hm",
        "colab": {
          "base_uri": "https://localhost:8080/"
        },
        "outputId": "ee2833b9-d3b3-42f1-c512-9b33c641b320"
      },
      "execution_count": null,
      "outputs": [
        {
          "output_type": "stream",
          "name": "stdout",
          "text": [
            "Inserting\n",
            "True\n",
            "True\n",
            "True\n",
            "Printing\n",
            "25\n",
            "15\n",
            "5\n",
            "Size\n",
            "3\n"
          ]
        }
      ]
    }
  ]
}